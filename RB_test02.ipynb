{
 "cells": [
  {
   "cell_type": "code",
   "execution_count": 37,
   "metadata": {},
   "outputs": [],
   "source": [
    "import numpy as np\n",
    "import QuantumCompilerV2 as QC2\n",
    "from RB_tool import *\n",
    "# from qel.drivers.Tektronix.Tektronix_AWG import AWG5208\n",
    "\n",
    "flat_list = np.array([35.7,34.3,12.4,12])*1e-9 #I_pi, Q_pi, I_pi/2, Q_pi/2\n",
    "G = Gate_1q(flat_list,1e-9*10,3)"
   ]
  },
  {
   "cell_type": "code",
   "execution_count": 38,
   "metadata": {},
   "outputs": [
    {
     "name": "stdout",
     "output_type": "stream",
     "text": [
      "[[7], [6, 0], [2, 6, 7], [10, 2, 6, 2, 10], [8, 10, 5, 3, 1, 3, 11], [8, 5, 8, 11, 5, 11, 9, 7, 9, 4], [4, 11, 6, 10, 10, 3, 3, 10, 9, 0, 2, 0, 2]]\n"
     ]
    }
   ],
   "source": [
    "import random\n",
    "\n",
    "#randomized list\n",
    "seq_truncated_list = [1,2,3,5,7,10,13]\n",
    "randomlist = [random.choices(range(len(G.gatelist)-1),k = idx) for idx in seq_truncated_list]\n",
    "print(randomlist)\n"
   ]
  },
  {
   "cell_type": "markdown",
   "metadata": {},
   "source": [
    "Process"
   ]
  },
  {
   "cell_type": "code",
   "execution_count": 39,
   "metadata": {},
   "outputs": [
    {
     "name": "stdout",
     "output_type": "stream",
     "text": [
      "[ 0.  0. nan]\n",
      "[ 0.  1. nan]\n",
      "[ 1.  1. nan]\n",
      "[ 2.  1. nan]\n",
      "[ 2.  0. nan]\n",
      "[ 2.  3. nan]\n",
      "[ 1.  3. nan]\n",
      "[['Y2', '-Y2'], ['X2', 'X', 'X2'], ['Z', 'X2', 'Y2', 'Y2'], ['-Y2', 'Z', 'X2', 'Z', '-Y2', 'X2'], ['Z2', '-Y2', '-Z', '-X', 'Y', '-X', '-Z2', 'X2'], ['Z2', '-Z', 'Z2', '-Z2', '-Z', '-Z2', '-X2', 'Y2', '-X2', '-Y', 'X'], ['-Y', '-Z2', 'X2', '-Y2', '-Y2', '-X', '-X', '-Y2', '-X2', 'X', 'Z', 'X', 'Z', 'Y2']]\n",
      "[['Y2', '-Y2'], ['X2', 'X', 'X2'], ['X2', 'Y2', 'Y2'], ['Y2', '-X2', '-Y2', 'X2'], ['Y2', '-X', 'Y', 'Y', 'X2'], ['-X2', 'Y2', '-X2', '-Y', 'X'], ['-X', 'X2', '-Y2', '-Y2', '-X', '-X', '-Y2', '-X2', '-X', '-X', 'Y2']]\n"
     ]
    }
   ],
   "source": [
    "#find reverse\n",
    "result_list = []\n",
    "ground = np.array([0,0,NaN])\n",
    "for i,seq in enumerate(randomlist):\n",
    "    state = ground\n",
    "    print(state)\n",
    "    result_list.append([])\n",
    "    for id in seq:\n",
    "        state = G.operator(id,state)\n",
    "        result_list[i].append(G.gatelist[id])\n",
    "    result_list[i].append(G.gatelist[G.reverse(state)])\n",
    "\n",
    "print(result_list)\n",
    "\n",
    "#virtual Z\n",
    "eff_list = []\n",
    "for i,seq in enumerate(result_list):\n",
    "    eff_list.append(Virtual_Z(seq))\n",
    "\n",
    "print(eff_list)\n",
    "# print(len(eff_list))\n"
   ]
  },
  {
   "cell_type": "code",
   "execution_count": 7,
   "metadata": {},
   "outputs": [],
   "source": [
    "channels = [\n",
    "    'ch1_I',\n",
    "    'ch2_Readout',\n",
    "    'ch1_Q',\n",
    "]\n",
    "\n",
    "RB_Sequence = {\n",
    "    channels[0]: [None for i in range(len(seq_truncated_list))],\n",
    "    channels[1]: [None for i in range(len(seq_truncated_list))],\n",
    "    channels[2]: [None for i in range(len(seq_truncated_list))],\n",
    "    'marker'   : [None for i in range(len(seq_truncated_list))]\n",
    "}\n",
    "\n",
    "#Compile\n",
    "\n",
    "for i,seq in enumerate(eff_list):\n",
    "    gate = Gate(name= 'main')\n",
    "    gate['Q1'] = Bus.null((2,1e-9))\n",
    "    gate['readout'] = Bus.null((2,1e-9))\n",
    "\n",
    "    for sym in seq:\n",
    "        if sym !='I':\n",
    "            idx = G.perform_gate_list.index(sym)\n",
    "            gate += G.gate_seq[idx]\n",
    "    gate += G.gate_seq[-1]\n",
    "    Q1 = gate.compile_device('Q1')\n",
    "    Q1.wires = {0: 'I', 1: 'Q'}\n",
    "    channel_readout = gate.compile_device('readout')\n",
    "    channel_readout.wires = {0: 'readout', 1: 'marker'}\n",
    "\n",
    "    RB_Sequence[channels[0]][i] = Q1.get('I')\n",
    "    RB_Sequence[channels[1]][i] = channel_readout.get('readout')\n",
    "    RB_Sequence[channels[2]][i] = Q1.get('Q')\n",
    "    RB_Sequence['marker'][i] = channel_readout.get('marker')\n",
    "\n",
    "maxlength = max([RB_Sequence[channels[1]][i].span for i in range(len(seq_truncated_list))])\n",
    "for i,seq in enumerate(eff_list):\n",
    "    RB_Sequence[channels[0]][i] = RB_Sequence[channels[0]][i].padConst((maxlength - RB_Sequence[channels[0]][i].span,0),(0,0))\n",
    "    RB_Sequence[channels[1]][i] = RB_Sequence[channels[1]][i].padConst((maxlength - RB_Sequence[channels[1]][i].span,0),(0,0))\n",
    "    RB_Sequence[channels[2]][i] = RB_Sequence[channels[2]][i].padConst((maxlength - RB_Sequence[channels[2]][i].span,0),(0,0))\n",
    "    RB_Sequence['marker'][i] = RB_Sequence['marker'][i].padConst((maxlength - RB_Sequence['marker'][i].span,0),(0,0))\n",
    "\n",
    "    RB_Sequence[channels[0]][i] = RB_Sequence[channels[0]][i].output\n",
    "    RB_Sequence[channels[1]][i] = RB_Sequence[channels[1]][i].output\n",
    "    RB_Sequence[channels[2]][i] = RB_Sequence[channels[2]][i].output\n",
    "    RB_Sequence['marker'][i] = RB_Sequence['marker'][i].output\n"
   ]
  },
  {
   "cell_type": "code",
   "execution_count": null,
   "metadata": {},
   "outputs": [],
   "source": [
    "# connect to AWG\n",
    "awg = AWG5208(\n",
    "    inst_name='AWG5208',\n",
    "    inst_address='TCPIP0::192.168.20.43::inst0::INSTR')\n",
    "# set sampling rate and reference clock\n",
    "awg.set_sample_rate(sample_rate=1e9)\n",
    "awg.set_extref_source(ref_freq=10e6)"
   ]
  },
  {
   "cell_type": "code",
   "execution_count": null,
   "metadata": {},
   "outputs": [],
   "source": [
    "# stop and clear sequence list and waveform list in AWG.\n",
    "awg.clean_up()"
   ]
  },
  {
   "cell_type": "code",
   "execution_count": null,
   "metadata": {},
   "outputs": [],
   "source": [
    "# create waveform and upload to AWG\n",
    "for idx in range(len(seq_truncated_list)):\n",
    "    awg.set_wfm(\n",
    "        wfm_name=f'{channels[0]}_{idx}',\n",
    "        wfm=RB_Sequence[channels[0]][idx])\n",
    "    awg.set_wfm(\n",
    "        wfm_name=f'{channels[1]}_{idx}',\n",
    "        wfm=RB_Sequence[channels[1]][idx],\n",
    "        mkr1=RB_Sequence['marker'][idx])\n",
    "    awg.set_wfm(\n",
    "        wfm_name=f'{channels[2]}_{idx}',\n",
    "        wfm=RB_Sequence[channels[2]][idx])\n",
    "awg.upload_wfm()"
   ]
  },
  {
   "cell_type": "code",
   "execution_count": null,
   "metadata": {},
   "outputs": [],
   "source": [
    "seq_name = 'RB_Sequence'\n",
    "# assign waveform to sequence table\n",
    "awg.set_seq(seq_name, num_track=len(channels), num_step=len(seq_truncated_list))\n",
    "\n",
    "for track_idx, track in enumerate(channels):\n",
    "    for step_idx, time in enumerate(seq_truncated_list):\n",
    "        awg.assign_seq(\n",
    "            f\"{track}_{step_idx}\", seq_name, track_idx+1, step_idx+1)\n",
    "awg.upload_seq(seq_name)"
   ]
  },
  {
   "cell_type": "code",
   "execution_count": null,
   "metadata": {},
   "outputs": [],
   "source": [
    "# assign sequences to channels\n",
    "awg.assign_ch(1, seq_name, track_index=1)\n",
    "awg.assign_ch(2, seq_name, track_index=2)\n",
    "awg.assign_ch(3, seq_name, track_index=3)\n",
    "\n",
    "# set channel amplitudes\n",
    "awg.set_ch_amp(ch=1, wfm_Vpp=1.0, wfm_offset=0., mkr1=1.0, mkr2=1.0, mkr3=1.0, mkr4=1.0)\n",
    "awg.set_ch_amp(ch=2, wfm_Vpp=1.0, wfm_offset=0., mkr1=1.0, mkr2=1.0, mkr3=1.0, mkr4=1.0)\n",
    "awg.set_ch_amp(ch=3, wfm_Vpp=1.0, wfm_offset=0., mkr1=1.0, mkr2=1.0, mkr3=1.0, mkr4=1.0)"
   ]
  },
  {
   "cell_type": "code",
   "execution_count": 36,
   "metadata": {},
   "outputs": [
    {
     "name": "stdout",
     "output_type": "stream",
     "text": [
      "0\n"
     ]
    }
   ],
   "source": [
    "import numpy as np\n",
    "from numpy import NaN\n",
    "state = np.array([2,2,NaN])\n",
    "\n",
    "temp = np.array([0,0,NaN]) - state\n",
    "axis = np.where(~np.isnan(temp) == True)[0][0]\n",
    "R_state = int(temp[axis])%4\n",
    "idx = 12 if R_state == 0 else axis + (R_state%2)*6 + (R_state%3 == 0)*3\n",
    "print(idx)"
   ]
  }
 ],
 "metadata": {
  "kernelspec": {
   "display_name": "Python 3.8.13 ('Lab005')",
   "language": "python",
   "name": "python3"
  },
  "language_info": {
   "codemirror_mode": {
    "name": "ipython",
    "version": 3
   },
   "file_extension": ".py",
   "mimetype": "text/x-python",
   "name": "python",
   "nbconvert_exporter": "python",
   "pygments_lexer": "ipython3",
   "version": "3.8.13"
  },
  "orig_nbformat": 4,
  "vscode": {
   "interpreter": {
    "hash": "8584cfed349fc95384274ac384f2d5e8655cd9009636b6124596c6b0c1c452ff"
   }
  }
 },
 "nbformat": 4,
 "nbformat_minor": 2
}
